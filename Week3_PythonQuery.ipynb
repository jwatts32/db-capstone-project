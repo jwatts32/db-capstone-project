{
 "cells": [
  {
   "cell_type": "code",
   "execution_count": 43,
   "id": "23037038",
   "metadata": {},
   "outputs": [
    {
     "name": "stdout",
     "output_type": "stream",
     "text": [
      "Requirement already satisfied: mysql-connector-python in c:\\users\\19364\\anaconda3\\lib\\site-packages (8.1.0)\n",
      "Requirement already satisfied: protobuf<=4.21.12,>=4.21.1 in c:\\users\\19364\\anaconda3\\lib\\site-packages (from mysql-connector-python) (4.21.12)\n"
     ]
    }
   ],
   "source": [
    "!pip install mysql-connector-python"
   ]
  },
  {
   "cell_type": "code",
   "execution_count": 44,
   "id": "6b657506",
   "metadata": {},
   "outputs": [],
   "source": [
    "import mysql.connector as connector"
   ]
  },
  {
   "cell_type": "code",
   "execution_count": 45,
   "id": "24f45365",
   "metadata": {},
   "outputs": [],
   "source": [
    "connection = connector.connect(user = \"root\", password = \"TCUfrogs#32\", db = \"littlelemon\")"
   ]
  },
  {
   "cell_type": "code",
   "execution_count": 46,
   "id": "5b346d23",
   "metadata": {},
   "outputs": [],
   "source": [
    "cursor = connection.cursor()"
   ]
  },
  {
   "cell_type": "code",
   "execution_count": 47,
   "id": "522f7068",
   "metadata": {},
   "outputs": [],
   "source": [
    "show_tables_query = \"SHOW tables\" \n",
    "results=cursor.execute(show_tables_query)"
   ]
  },
  {
   "cell_type": "code",
   "execution_count": 48,
   "id": "29b1b8af",
   "metadata": {},
   "outputs": [
    {
     "name": "stdout",
     "output_type": "stream",
     "text": [
      "bookings\n",
      "contact\n",
      "customers\n",
      "delivery\n",
      "menu\n",
      "menucontent\n",
      "menuitems\n",
      "orders\n",
      "ordersview\n",
      "role\n",
      "staff\n"
     ]
    }
   ],
   "source": [
    "tables = cursor.fetchall()\n",
    "for table in tables:\n",
    "    print(table[0])"
   ]
  },
  {
   "cell_type": "code",
   "execution_count": 49,
   "id": "a062e9ca",
   "metadata": {},
   "outputs": [],
   "source": [
    "customer_query = '''Select\n",
    "Concat(cs.FirstName, ' ', cs.LastName) as CustomerName,\n",
    "ct.Address,\n",
    "ct.City,\n",
    "ct.State,\n",
    "ct.ZipCode,\n",
    "ct.Country,\n",
    "ct.PhoneNumber,\n",
    "ct.Email,\n",
    "Sum(od.TotalCost) as Cost\n",
    "From customers cs\n",
    "Join contact ct\n",
    "  on ct.CustomerID = cs.CustomerID\n",
    "Join orders od\n",
    "  on od.CustomerID = cs.CustomerID\n",
    "Where od.TotalCost > 60.00\n",
    "Group By\n",
    "cs.Firstname, \n",
    "cs.Lastname, \n",
    "ct.Address, \n",
    "ct.City, \n",
    "ct.State, \n",
    "ct.ZipCode, \n",
    "ct.Country, \n",
    "ct.PhoneNumber, \n",
    "ct.Email\n",
    "'''"
   ]
  },
  {
   "cell_type": "code",
   "execution_count": 50,
   "id": "27ac2c2a",
   "metadata": {},
   "outputs": [],
   "source": [
    "cursor.execute(customer_query)"
   ]
  },
  {
   "cell_type": "code",
   "execution_count": 51,
   "id": "f6ec4c38",
   "metadata": {},
   "outputs": [],
   "source": [
    "customers = cursor.fetchall()"
   ]
  },
  {
   "cell_type": "code",
   "execution_count": 53,
   "id": "1a95fb45",
   "metadata": {},
   "outputs": [
    {
     "name": "stdout",
     "output_type": "stream",
     "text": [
      "CustomerName:  Javante Lockley\n",
      "Address:  7981 Jesuit\n",
      "City:  Dallas\n",
      "State:  Texas\n",
      "ZipCode:  75104\n",
      "Country:  United States\n",
      "PhoneNumber:  214-612-8943\n",
      "Email:  jav.lock@mail.com\n",
      "Cost:  204.25\n",
      "\n",
      "\n",
      "CustomerName:  Zyn Carter\n",
      "Address:  3216 Sanford Ave\n",
      "City:  Fort Worth\n",
      "State:  Texas\n",
      "ZipCode:  76131\n",
      "Country:  United States\n",
      "PhoneNumber:  817-267-1563\n",
      "Email:  zyn.carter@mail.com\n",
      "Cost:  229.43\n",
      "\n",
      "\n",
      "CustomerName:  Tesha Holmes\n",
      "Address:  9419 Southlea\n",
      "City:  Houston\n",
      "State:  Texas\n",
      "ZipCode:  77013\n",
      "Country:  United States\n",
      "PhoneNumber:  281-330-8004\n",
      "Email:  t.holmes@mail.com\n",
      "Cost:  342.43\n",
      "\n",
      "\n"
     ]
    }
   ],
   "source": [
    "for customer in customers:\n",
    "    print(\"CustomerName: \", customer[0])\n",
    "    print(\"Address: \", customer[1])\n",
    "    print(\"City: \", customer[2])\n",
    "    print(\"State: \", customer[3])\n",
    "    print(\"ZipCode: \", customer[4])\n",
    "    print(\"Country: \", customer[5])\n",
    "    print(\"PhoneNumber: \", customer[6])\n",
    "    print(\"Email: \", customer[7])\n",
    "    print(\"Cost: \", customer[8])\n",
    "    print(\"\\n\")"
   ]
  },
  {
   "cell_type": "code",
   "execution_count": 36,
   "id": "2bb7320b",
   "metadata": {},
   "outputs": [
    {
     "name": "stdout",
     "output_type": "stream",
     "text": [
      "[]\n"
     ]
    }
   ],
   "source": []
  },
  {
   "cell_type": "code",
   "execution_count": null,
   "id": "40fece35",
   "metadata": {},
   "outputs": [],
   "source": []
  }
 ],
 "metadata": {
  "kernelspec": {
   "display_name": "Python 3 (ipykernel)",
   "language": "python",
   "name": "python3"
  },
  "language_info": {
   "codemirror_mode": {
    "name": "ipython",
    "version": 3
   },
   "file_extension": ".py",
   "mimetype": "text/x-python",
   "name": "python",
   "nbconvert_exporter": "python",
   "pygments_lexer": "ipython3",
   "version": "3.9.12"
  }
 },
 "nbformat": 4,
 "nbformat_minor": 5
}
